{
  "nbformat": 4,
  "nbformat_minor": 0,
  "metadata": {
    "colab": {
      "provenance": []
    },
    "kernelspec": {
      "name": "python3",
      "display_name": "Python 3"
    },
    "language_info": {
      "name": "python"
    }
  },
  "cells": [
    {
      "cell_type": "code",
      "execution_count": null,
      "metadata": {
        "id": "kbPzsWvaGQnL"
      },
      "outputs": [],
      "source": [
        "import numpy as np\n",
        "import pandas as pd\n",
        "import seaborn as sns\n",
        "import os\n",
        "from tensorflow.keras.utils import to_categorical\n",
        "from tensorflow.keras.callbacks import EarlyStopping\n",
        "from tensorflow.keras.models import Sequential\n",
        "from tensorflow.keras import layers\n",
        "from tensorflow.keras import optimizers\n",
        "from tensorflow.keras import metrics\n",
        "from keras.callbacks import ModelCheckpoint, EarlyStopping, ReduceLROnPlateau\n",
        "from keras.preprocessing.image import ImageDataGenerator\n",
        "from matplotlib import pyplot as plt\n",
        "from sklearn.preprocessing import StandardScaler,KBinsDiscretizer,MaxAbsScaler\n",
        "from sklearn.model_selection import train_test_split\n",
        "from sklearn.model_selection import KFold\n",
        "from sklearn.metrics import confusion_matrix,classification_report\n",
        "plt.rcParams['figure.figsize'] = [15, 10]"
      ]
    },
    {
      "cell_type": "code",
      "source": [
        "!pip install openpyxl"
      ],
      "metadata": {
        "colab": {
          "base_uri": "https://localhost:8080/"
        },
        "id": "jrVdd78dLwh4",
        "outputId": "7716678d-2b97-4aad-b3d5-40a327e3ff4b"
      },
      "execution_count": null,
      "outputs": [
        {
          "output_type": "stream",
          "name": "stdout",
          "text": [
            "Looking in indexes: https://pypi.org/simple, https://us-python.pkg.dev/colab-wheels/public/simple/\n",
            "Requirement already satisfied: openpyxl in /usr/local/lib/python3.8/dist-packages (3.0.10)\n",
            "Requirement already satisfied: et-xmlfile in /usr/local/lib/python3.8/dist-packages (from openpyxl) (1.1.0)\n"
          ]
        }
      ]
    },
    {
      "cell_type": "code",
      "source": [
        "from google.colab import drive\n",
        "drive.mount('/content/drive')"
      ],
      "metadata": {
        "colab": {
          "base_uri": "https://localhost:8080/"
        },
        "id": "673C9zYD5T1I",
        "outputId": "523a0123-389a-4cd4-e9c6-950fe6940e9d"
      },
      "execution_count": null,
      "outputs": [
        {
          "output_type": "stream",
          "name": "stdout",
          "text": [
            "Drive already mounted at /content/drive; to attempt to forcibly remount, call drive.mount(\"/content/drive\", force_remount=True).\n"
          ]
        }
      ]
    },
    {
      "cell_type": "code",
      "source": [
        "data = pd.read_excel('/content/drive/MyDrive/MachineLearning/Date_Fruit_Datasets.xlsx')\n",
        "data.head(5)"
      ],
      "metadata": {
        "colab": {
          "base_uri": "https://localhost:8080/",
          "height": 299
        },
        "id": "j5yX_aYjL3HY",
        "outputId": "10fa5eeb-1120-4df1-b6da-8e0fd5f278ed"
      },
      "execution_count": null,
      "outputs": [
        {
          "output_type": "execute_result",
          "data": {
            "text/plain": [
              "     AREA  PERIMETER  MAJOR_AXIS  MINOR_AXIS  ECCENTRICITY   EQDIASQ  \\\n",
              "0  422163   2378.908    837.8484    645.6693        0.6373  733.1539   \n",
              "1  338136   2085.144    723.8198    595.2073        0.5690  656.1464   \n",
              "2  526843   2647.394    940.7379    715.3638        0.6494  819.0222   \n",
              "3  416063   2351.210    827.9804    645.2988        0.6266  727.8378   \n",
              "4  347562   2160.354    763.9877    582.8359        0.6465  665.2291   \n",
              "\n",
              "   SOLIDITY  CONVEX_AREA  EXTENT  ASPECT_RATIO  ...  KurtosisRR  KurtosisRG  \\\n",
              "0    0.9947       424428  0.7831        1.2976  ...      3.2370      2.9574   \n",
              "1    0.9974       339014  0.7795        1.2161  ...      2.6228      2.6350   \n",
              "2    0.9962       528876  0.7657        1.3150  ...      3.7516      3.8611   \n",
              "3    0.9948       418255  0.7759        1.2831  ...      5.0401      8.6136   \n",
              "4    0.9908       350797  0.7569        1.3108  ...      2.7016      2.9761   \n",
              "\n",
              "   KurtosisRB    EntropyRR    EntropyRG    EntropyRB  ALLdaub4RR  ALLdaub4RG  \\\n",
              "0      4.2287 -59191263232 -50714214400 -39922372608     58.7255     54.9554   \n",
              "1      3.1704 -34233065472 -37462601728 -31477794816     50.0259     52.8168   \n",
              "2      4.7192 -93948354560 -74738221056 -60311207936     65.4772     59.2860   \n",
              "3      8.2618 -32074307584 -32060925952 -29575010304     43.3900     44.1259   \n",
              "4      4.4146 -39980974080 -35980042240 -25593278464     52.7743     50.9080   \n",
              "\n",
              "   ALLdaub4RB  Class  \n",
              "0     47.8400  BERHI  \n",
              "1     47.8315  BERHI  \n",
              "2     51.9378  BERHI  \n",
              "3     41.1882  BERHI  \n",
              "4     42.6666  BERHI  \n",
              "\n",
              "[5 rows x 35 columns]"
            ],
            "text/html": [
              "\n",
              "  <div id=\"df-c3cd0d94-fe59-4a26-8177-cce0ec622a35\">\n",
              "    <div class=\"colab-df-container\">\n",
              "      <div>\n",
              "<style scoped>\n",
              "    .dataframe tbody tr th:only-of-type {\n",
              "        vertical-align: middle;\n",
              "    }\n",
              "\n",
              "    .dataframe tbody tr th {\n",
              "        vertical-align: top;\n",
              "    }\n",
              "\n",
              "    .dataframe thead th {\n",
              "        text-align: right;\n",
              "    }\n",
              "</style>\n",
              "<table border=\"1\" class=\"dataframe\">\n",
              "  <thead>\n",
              "    <tr style=\"text-align: right;\">\n",
              "      <th></th>\n",
              "      <th>AREA</th>\n",
              "      <th>PERIMETER</th>\n",
              "      <th>MAJOR_AXIS</th>\n",
              "      <th>MINOR_AXIS</th>\n",
              "      <th>ECCENTRICITY</th>\n",
              "      <th>EQDIASQ</th>\n",
              "      <th>SOLIDITY</th>\n",
              "      <th>CONVEX_AREA</th>\n",
              "      <th>EXTENT</th>\n",
              "      <th>ASPECT_RATIO</th>\n",
              "      <th>...</th>\n",
              "      <th>KurtosisRR</th>\n",
              "      <th>KurtosisRG</th>\n",
              "      <th>KurtosisRB</th>\n",
              "      <th>EntropyRR</th>\n",
              "      <th>EntropyRG</th>\n",
              "      <th>EntropyRB</th>\n",
              "      <th>ALLdaub4RR</th>\n",
              "      <th>ALLdaub4RG</th>\n",
              "      <th>ALLdaub4RB</th>\n",
              "      <th>Class</th>\n",
              "    </tr>\n",
              "  </thead>\n",
              "  <tbody>\n",
              "    <tr>\n",
              "      <th>0</th>\n",
              "      <td>422163</td>\n",
              "      <td>2378.908</td>\n",
              "      <td>837.8484</td>\n",
              "      <td>645.6693</td>\n",
              "      <td>0.6373</td>\n",
              "      <td>733.1539</td>\n",
              "      <td>0.9947</td>\n",
              "      <td>424428</td>\n",
              "      <td>0.7831</td>\n",
              "      <td>1.2976</td>\n",
              "      <td>...</td>\n",
              "      <td>3.2370</td>\n",
              "      <td>2.9574</td>\n",
              "      <td>4.2287</td>\n",
              "      <td>-59191263232</td>\n",
              "      <td>-50714214400</td>\n",
              "      <td>-39922372608</td>\n",
              "      <td>58.7255</td>\n",
              "      <td>54.9554</td>\n",
              "      <td>47.8400</td>\n",
              "      <td>BERHI</td>\n",
              "    </tr>\n",
              "    <tr>\n",
              "      <th>1</th>\n",
              "      <td>338136</td>\n",
              "      <td>2085.144</td>\n",
              "      <td>723.8198</td>\n",
              "      <td>595.2073</td>\n",
              "      <td>0.5690</td>\n",
              "      <td>656.1464</td>\n",
              "      <td>0.9974</td>\n",
              "      <td>339014</td>\n",
              "      <td>0.7795</td>\n",
              "      <td>1.2161</td>\n",
              "      <td>...</td>\n",
              "      <td>2.6228</td>\n",
              "      <td>2.6350</td>\n",
              "      <td>3.1704</td>\n",
              "      <td>-34233065472</td>\n",
              "      <td>-37462601728</td>\n",
              "      <td>-31477794816</td>\n",
              "      <td>50.0259</td>\n",
              "      <td>52.8168</td>\n",
              "      <td>47.8315</td>\n",
              "      <td>BERHI</td>\n",
              "    </tr>\n",
              "    <tr>\n",
              "      <th>2</th>\n",
              "      <td>526843</td>\n",
              "      <td>2647.394</td>\n",
              "      <td>940.7379</td>\n",
              "      <td>715.3638</td>\n",
              "      <td>0.6494</td>\n",
              "      <td>819.0222</td>\n",
              "      <td>0.9962</td>\n",
              "      <td>528876</td>\n",
              "      <td>0.7657</td>\n",
              "      <td>1.3150</td>\n",
              "      <td>...</td>\n",
              "      <td>3.7516</td>\n",
              "      <td>3.8611</td>\n",
              "      <td>4.7192</td>\n",
              "      <td>-93948354560</td>\n",
              "      <td>-74738221056</td>\n",
              "      <td>-60311207936</td>\n",
              "      <td>65.4772</td>\n",
              "      <td>59.2860</td>\n",
              "      <td>51.9378</td>\n",
              "      <td>BERHI</td>\n",
              "    </tr>\n",
              "    <tr>\n",
              "      <th>3</th>\n",
              "      <td>416063</td>\n",
              "      <td>2351.210</td>\n",
              "      <td>827.9804</td>\n",
              "      <td>645.2988</td>\n",
              "      <td>0.6266</td>\n",
              "      <td>727.8378</td>\n",
              "      <td>0.9948</td>\n",
              "      <td>418255</td>\n",
              "      <td>0.7759</td>\n",
              "      <td>1.2831</td>\n",
              "      <td>...</td>\n",
              "      <td>5.0401</td>\n",
              "      <td>8.6136</td>\n",
              "      <td>8.2618</td>\n",
              "      <td>-32074307584</td>\n",
              "      <td>-32060925952</td>\n",
              "      <td>-29575010304</td>\n",
              "      <td>43.3900</td>\n",
              "      <td>44.1259</td>\n",
              "      <td>41.1882</td>\n",
              "      <td>BERHI</td>\n",
              "    </tr>\n",
              "    <tr>\n",
              "      <th>4</th>\n",
              "      <td>347562</td>\n",
              "      <td>2160.354</td>\n",
              "      <td>763.9877</td>\n",
              "      <td>582.8359</td>\n",
              "      <td>0.6465</td>\n",
              "      <td>665.2291</td>\n",
              "      <td>0.9908</td>\n",
              "      <td>350797</td>\n",
              "      <td>0.7569</td>\n",
              "      <td>1.3108</td>\n",
              "      <td>...</td>\n",
              "      <td>2.7016</td>\n",
              "      <td>2.9761</td>\n",
              "      <td>4.4146</td>\n",
              "      <td>-39980974080</td>\n",
              "      <td>-35980042240</td>\n",
              "      <td>-25593278464</td>\n",
              "      <td>52.7743</td>\n",
              "      <td>50.9080</td>\n",
              "      <td>42.6666</td>\n",
              "      <td>BERHI</td>\n",
              "    </tr>\n",
              "  </tbody>\n",
              "</table>\n",
              "<p>5 rows × 35 columns</p>\n",
              "</div>\n",
              "      <button class=\"colab-df-convert\" onclick=\"convertToInteractive('df-c3cd0d94-fe59-4a26-8177-cce0ec622a35')\"\n",
              "              title=\"Convert this dataframe to an interactive table.\"\n",
              "              style=\"display:none;\">\n",
              "        \n",
              "  <svg xmlns=\"http://www.w3.org/2000/svg\" height=\"24px\"viewBox=\"0 0 24 24\"\n",
              "       width=\"24px\">\n",
              "    <path d=\"M0 0h24v24H0V0z\" fill=\"none\"/>\n",
              "    <path d=\"M18.56 5.44l.94 2.06.94-2.06 2.06-.94-2.06-.94-.94-2.06-.94 2.06-2.06.94zm-11 1L8.5 8.5l.94-2.06 2.06-.94-2.06-.94L8.5 2.5l-.94 2.06-2.06.94zm10 10l.94 2.06.94-2.06 2.06-.94-2.06-.94-.94-2.06-.94 2.06-2.06.94z\"/><path d=\"M17.41 7.96l-1.37-1.37c-.4-.4-.92-.59-1.43-.59-.52 0-1.04.2-1.43.59L10.3 9.45l-7.72 7.72c-.78.78-.78 2.05 0 2.83L4 21.41c.39.39.9.59 1.41.59.51 0 1.02-.2 1.41-.59l7.78-7.78 2.81-2.81c.8-.78.8-2.07 0-2.86zM5.41 20L4 18.59l7.72-7.72 1.47 1.35L5.41 20z\"/>\n",
              "  </svg>\n",
              "      </button>\n",
              "      \n",
              "  <style>\n",
              "    .colab-df-container {\n",
              "      display:flex;\n",
              "      flex-wrap:wrap;\n",
              "      gap: 12px;\n",
              "    }\n",
              "\n",
              "    .colab-df-convert {\n",
              "      background-color: #E8F0FE;\n",
              "      border: none;\n",
              "      border-radius: 50%;\n",
              "      cursor: pointer;\n",
              "      display: none;\n",
              "      fill: #1967D2;\n",
              "      height: 32px;\n",
              "      padding: 0 0 0 0;\n",
              "      width: 32px;\n",
              "    }\n",
              "\n",
              "    .colab-df-convert:hover {\n",
              "      background-color: #E2EBFA;\n",
              "      box-shadow: 0px 1px 2px rgba(60, 64, 67, 0.3), 0px 1px 3px 1px rgba(60, 64, 67, 0.15);\n",
              "      fill: #174EA6;\n",
              "    }\n",
              "\n",
              "    [theme=dark] .colab-df-convert {\n",
              "      background-color: #3B4455;\n",
              "      fill: #D2E3FC;\n",
              "    }\n",
              "\n",
              "    [theme=dark] .colab-df-convert:hover {\n",
              "      background-color: #434B5C;\n",
              "      box-shadow: 0px 1px 3px 1px rgba(0, 0, 0, 0.15);\n",
              "      filter: drop-shadow(0px 1px 2px rgba(0, 0, 0, 0.3));\n",
              "      fill: #FFFFFF;\n",
              "    }\n",
              "  </style>\n",
              "\n",
              "      <script>\n",
              "        const buttonEl =\n",
              "          document.querySelector('#df-c3cd0d94-fe59-4a26-8177-cce0ec622a35 button.colab-df-convert');\n",
              "        buttonEl.style.display =\n",
              "          google.colab.kernel.accessAllowed ? 'block' : 'none';\n",
              "\n",
              "        async function convertToInteractive(key) {\n",
              "          const element = document.querySelector('#df-c3cd0d94-fe59-4a26-8177-cce0ec622a35');\n",
              "          const dataTable =\n",
              "            await google.colab.kernel.invokeFunction('convertToInteractive',\n",
              "                                                     [key], {});\n",
              "          if (!dataTable) return;\n",
              "\n",
              "          const docLinkHtml = 'Like what you see? Visit the ' +\n",
              "            '<a target=\"_blank\" href=https://colab.research.google.com/notebooks/data_table.ipynb>data table notebook</a>'\n",
              "            + ' to learn more about interactive tables.';\n",
              "          element.innerHTML = '';\n",
              "          dataTable['output_type'] = 'display_data';\n",
              "          await google.colab.output.renderOutput(dataTable, element);\n",
              "          const docLink = document.createElement('div');\n",
              "          docLink.innerHTML = docLinkHtml;\n",
              "          element.appendChild(docLink);\n",
              "        }\n",
              "      </script>\n",
              "    </div>\n",
              "  </div>\n",
              "  "
            ]
          },
          "metadata": {},
          "execution_count": 6
        }
      ]
    },
    {
      "cell_type": "code",
      "source": [
        "data.drop(columns=['StdDevRR','StdDevRG','StdDevRB','SkewRR','KurtosisRB','ALLdaub4RR','ALLdaub4RG','ALLdaub4RB'], inplace=True)"
      ],
      "metadata": {
        "id": "u9iVGFfjmaRy"
      },
      "execution_count": null,
      "outputs": []
    },
    {
      "cell_type": "code",
      "source": [
        "x = data.drop('Class', axis=1) # features\n",
        "y = data['Class'] # class"
      ],
      "metadata": {
        "id": "zjsXzgVsMcAt"
      },
      "execution_count": null,
      "outputs": []
    },
    {
      "cell_type": "code",
      "source": [
        "class_labels = {\n",
        "    'DOKOL': 0,     \n",
        "    'SAFAVI': 1,   \n",
        "    'ROTANA': 2,   \n",
        "    'DEGLET': 3,     \n",
        "    'SOGAY': 4,     \n",
        "    'IRAQI': 5,      \n",
        "    'BERHI': 6  \n",
        "}\n",
        "\n",
        "y_transformed = to_categorical(y.map(class_labels))\n",
        "y_transformed[:5]"
      ],
      "metadata": {
        "colab": {
          "base_uri": "https://localhost:8080/"
        },
        "id": "zzmRdhdoMTAZ",
        "outputId": "bb7f52d3-3bc0-4e4e-cae1-eea3084a6279"
      },
      "execution_count": null,
      "outputs": [
        {
          "output_type": "execute_result",
          "data": {
            "text/plain": [
              "array([[0., 0., 0., 0., 0., 0., 1.],\n",
              "       [0., 0., 0., 0., 0., 0., 1.],\n",
              "       [0., 0., 0., 0., 0., 0., 1.],\n",
              "       [0., 0., 0., 0., 0., 0., 1.],\n",
              "       [0., 0., 0., 0., 0., 0., 1.]], dtype=float32)"
            ]
          },
          "metadata": {},
          "execution_count": 9
        }
      ]
    },
    {
      "cell_type": "code",
      "source": [
        "x_transformed = MaxAbsScaler().fit_transform(x)\n",
        "x_transformed[:5]"
      ],
      "metadata": {
        "colab": {
          "base_uri": "https://localhost:8080/"
        },
        "id": "MoAA30BDMl6E",
        "outputId": "c5c9e9a7-1c5c-45da-c094-8a5da5a20122"
      },
      "execution_count": null,
      "outputs": [
        {
          "output_type": "execute_result",
          "data": {
            "text/plain": [
              "array([[ 0.7731031 ,  0.84598523,  0.68523157,  0.84241146,  0.6373    ,\n",
              "         0.87926286,  0.99729296,  0.76805924,  0.91462275,  0.00242304,\n",
              "         0.95917323,  0.90383225,  0.00324992,  0.34883721,  0.81692094,\n",
              "         0.99409705,  0.73565325,  0.66155979,  0.64554683, -0.0030835 ,\n",
              "         0.19464476,  0.12368605,  0.11061201, -0.5424299 , -0.54756933,\n",
              "        -0.45640295],\n",
              "       [ 0.61922525,  0.74151712,  0.59197365,  0.77657317,  0.569     ,\n",
              "         0.78690867,  1.        ,  0.61349118,  0.91041813,  0.00227085,\n",
              "         1.        ,  0.93637021,  0.00341241,  0.41860465,  0.87677371,\n",
              "         0.9997999 ,  0.62673458,  0.63581512,  0.64543618,  0.03648806,\n",
              "         0.1336869 ,  0.10021742,  0.09855367, -0.31371248, -0.40448959,\n",
              "        -0.35986234],\n",
              "       [ 0.9648026 ,  0.94146399,  0.76937941,  0.93334261,  0.6494    ,\n",
              "         0.9822437 ,  0.99879687,  0.95707187,  0.8943004 ,  0.00245553,\n",
              "         0.96654047,  0.89928726,  0.00292493,  0.3255814 ,  0.80870586,\n",
              "         0.99729865,  0.82027117,  0.71369678,  0.70085702, -0.02864407,\n",
              "         0.29696343,  0.14334896,  0.14441199, -0.86094456, -0.8069603 ,\n",
              "        -0.68949342],\n",
              "       [ 0.76193223,  0.83613529,  0.67716106,  0.84192807,  0.6266    ,\n",
              "         0.87288732,  0.99739322,  0.75688837,  0.9062135 ,  0.00239596,\n",
              "         0.96776834,  0.90806735,  0.00324992,  0.37209302,  0.8243892 ,\n",
              "         0.991996  ,  0.54356484,  0.53121189,  0.55579463,  0.34938195,\n",
              "         0.58299648,  0.19258266,  0.32216392, -0.29392958, -0.34616685,\n",
              "        -0.33810921],\n",
              "       [ 0.636487  ,  0.76826324,  0.62482484,  0.76043207,  0.6465    ,\n",
              "         0.79780144,  0.9933828 ,  0.6348141 ,  0.88402242,  0.00244769,\n",
              "         0.95753607,  0.89939056,  0.00357491,  0.39534884,  0.80891924,\n",
              "         0.99429715,  0.66112619,  0.61283267,  0.57576003,  0.05682832,\n",
              "         0.28667982,  0.10322837,  0.11131142, -0.36638643, -0.38848216,\n",
              "        -0.29258902]])"
            ]
          },
          "metadata": {},
          "execution_count": 10
        }
      ]
    },
    {
      "cell_type": "code",
      "source": [
        "x_train, x_test, y_train, y_test = train_test_split(x_transformed, y_transformed, test_size=0.2, random_state=42,shuffle=True, stratify=y_transformed)"
      ],
      "metadata": {
        "id": "FZ0N2WUqMnlo"
      },
      "execution_count": null,
      "outputs": []
    },
    {
      "cell_type": "code",
      "source": [
        "split = np.sum(y_train, axis=0, dtype='uint8')\n",
        "print('train dataset')\n",
        "for i in range(7): print('class', i, \":\", split[i])\n",
        "\n",
        "print()\n",
        "    \n",
        "split = np.sum(y_test, axis=0, dtype='uint8')\n",
        "print('test dataset')\n",
        "for i in range(7): print('class', i, \":\", split[i])"
      ],
      "metadata": {
        "colab": {
          "base_uri": "https://localhost:8080/"
        },
        "id": "wDZ1V3fJMt1s",
        "outputId": "6d546bed-f415-4169-ef1e-dde823029f17"
      },
      "execution_count": null,
      "outputs": [
        {
          "output_type": "stream",
          "name": "stdout",
          "text": [
            "train dataset\n",
            "class 0 : 163\n",
            "class 1 : 159\n",
            "class 2 : 133\n",
            "class 3 : 78\n",
            "class 4 : 75\n",
            "class 5 : 58\n",
            "class 6 : 52\n",
            "\n",
            "test dataset\n",
            "class 0 : 41\n",
            "class 1 : 40\n",
            "class 2 : 33\n",
            "class 3 : 20\n",
            "class 4 : 19\n",
            "class 5 : 14\n",
            "class 6 : 13\n"
          ]
        }
      ]
    },
    {
      "cell_type": "code",
      "source": [
        "INPUT_SHAPE = (len(x_train[0]),)"
      ],
      "metadata": {
        "id": "haw1c2EhoOwi"
      },
      "execution_count": null,
      "outputs": []
    },
    {
      "cell_type": "code",
      "source": [
        "model = Sequential()\n",
        "\n",
        "model.add(layers.Dense(512, 'relu', input_shape=INPUT_SHAPE))\n",
        "model.add(layers.Dropout(0.3))\n",
        "model.add(layers.Dense(256, 'relu'))\n",
        "model.add(layers.Dropout(0.3))\n",
        "model.add(layers.Dense(128, 'relu'))\n",
        "model.add(layers.Dropout(0.3))\n",
        "model.add(layers.Dense(64, 'relu'))\n",
        "model.add(layers.Dropout(0.25))\n",
        "model.add(layers.Dense(7,'softmax'))\n",
        "\n",
        "model.compile('Adam','categorical_crossentropy', ['accuracy'])\n",
        "\n",
        "model.summary()"
      ],
      "metadata": {
        "colab": {
          "base_uri": "https://localhost:8080/"
        },
        "id": "Fc6i8PX9Mxc9",
        "outputId": "d2d589a1-3730-4289-ed3d-cf5adb077d59"
      },
      "execution_count": null,
      "outputs": [
        {
          "output_type": "stream",
          "name": "stdout",
          "text": [
            "Model: \"sequential\"\n",
            "_________________________________________________________________\n",
            " Layer (type)                Output Shape              Param #   \n",
            "=================================================================\n",
            " dense (Dense)               (None, 512)               13824     \n",
            "                                                                 \n",
            " dropout (Dropout)           (None, 512)               0         \n",
            "                                                                 \n",
            " dense_1 (Dense)             (None, 256)               131328    \n",
            "                                                                 \n",
            " dropout_1 (Dropout)         (None, 256)               0         \n",
            "                                                                 \n",
            " dense_2 (Dense)             (None, 128)               32896     \n",
            "                                                                 \n",
            " dropout_2 (Dropout)         (None, 128)               0         \n",
            "                                                                 \n",
            " dense_3 (Dense)             (None, 64)                8256      \n",
            "                                                                 \n",
            " dropout_3 (Dropout)         (None, 64)                0         \n",
            "                                                                 \n",
            " dense_4 (Dense)             (None, 7)                 455       \n",
            "                                                                 \n",
            "=================================================================\n",
            "Total params: 186,759\n",
            "Trainable params: 186,759\n",
            "Non-trainable params: 0\n",
            "_________________________________________________________________\n"
          ]
        }
      ]
    },
    {
      "cell_type": "code",
      "source": [
        "history = model.fit(x_train, y_train, epochs=15, validation_data=(x_test, y_test), callbacks=[EarlyStopping(patience=5, restore_best_weights=True)])"
      ],
      "metadata": {
        "colab": {
          "base_uri": "https://localhost:8080/"
        },
        "id": "BF3jxzpVM0QB",
        "outputId": "62e2f0df-9d2a-4b8f-fcf7-623baad33d7e"
      },
      "execution_count": null,
      "outputs": [
        {
          "output_type": "stream",
          "name": "stdout",
          "text": [
            "Epoch 1/15\n",
            "23/23 [==============================] - 4s 26ms/step - loss: 1.8149 - accuracy: 0.3273 - val_loss: 1.5131 - val_accuracy: 0.5722\n",
            "Epoch 2/15\n",
            "23/23 [==============================] - 0s 11ms/step - loss: 1.3720 - accuracy: 0.5557 - val_loss: 1.0294 - val_accuracy: 0.6333\n",
            "Epoch 3/15\n",
            "23/23 [==============================] - 0s 11ms/step - loss: 1.0669 - accuracy: 0.6253 - val_loss: 0.7611 - val_accuracy: 0.6667\n",
            "Epoch 4/15\n",
            "23/23 [==============================] - 0s 11ms/step - loss: 0.8937 - accuracy: 0.6671 - val_loss: 0.7567 - val_accuracy: 0.7278\n",
            "Epoch 5/15\n",
            "23/23 [==============================] - 0s 13ms/step - loss: 0.8015 - accuracy: 0.7006 - val_loss: 0.6050 - val_accuracy: 0.7833\n",
            "Epoch 6/15\n",
            "23/23 [==============================] - 0s 11ms/step - loss: 0.7329 - accuracy: 0.7201 - val_loss: 0.6341 - val_accuracy: 0.7333\n",
            "Epoch 7/15\n",
            "23/23 [==============================] - 0s 11ms/step - loss: 0.6428 - accuracy: 0.7591 - val_loss: 0.4627 - val_accuracy: 0.7944\n",
            "Epoch 8/15\n",
            "23/23 [==============================] - 0s 11ms/step - loss: 0.5785 - accuracy: 0.7674 - val_loss: 0.4171 - val_accuracy: 0.8444\n",
            "Epoch 9/15\n",
            "23/23 [==============================] - 0s 11ms/step - loss: 0.5612 - accuracy: 0.7758 - val_loss: 0.5984 - val_accuracy: 0.7778\n",
            "Epoch 10/15\n",
            "23/23 [==============================] - 0s 11ms/step - loss: 0.5345 - accuracy: 0.8050 - val_loss: 0.4167 - val_accuracy: 0.8167\n",
            "Epoch 11/15\n",
            "23/23 [==============================] - 0s 12ms/step - loss: 0.4866 - accuracy: 0.8092 - val_loss: 0.4087 - val_accuracy: 0.8556\n",
            "Epoch 12/15\n",
            "23/23 [==============================] - 0s 11ms/step - loss: 0.4974 - accuracy: 0.8134 - val_loss: 0.3806 - val_accuracy: 0.8722\n",
            "Epoch 13/15\n",
            "23/23 [==============================] - 0s 11ms/step - loss: 0.4591 - accuracy: 0.8064 - val_loss: 0.3931 - val_accuracy: 0.8722\n",
            "Epoch 14/15\n",
            "23/23 [==============================] - 0s 13ms/step - loss: 0.4519 - accuracy: 0.8175 - val_loss: 0.4617 - val_accuracy: 0.8444\n",
            "Epoch 15/15\n",
            "23/23 [==============================] - 0s 11ms/step - loss: 0.5583 - accuracy: 0.7883 - val_loss: 0.3871 - val_accuracy: 0.8833\n"
          ]
        }
      ]
    },
    {
      "cell_type": "code",
      "source": [
        "import itertools\n",
        "\n",
        "\n",
        "def calculate_confusion_matrix(x_test,y_test,classes=class_labels.keys(),title='Confusion matrix', cmap=plt.cm.Blues):\n",
        "\n",
        "  y_pred=model.predict(x_test) \n",
        "  y_preds=np.argmax(y_pred, axis=1)\n",
        "  y_tests=np.argmax(y_test, axis=1)\n",
        "  cm = confusion_matrix(y_tests, y_preds)\n",
        "\n",
        "  plt.imshow(cm, interpolation='nearest', cmap=cmap)\n",
        "  plt.title(title)\n",
        "  plt.colorbar()\n",
        "  tick_marks = np.arange(len(classes))\n",
        "  plt.xticks(tick_marks, classes, rotation=45)\n",
        "  plt.yticks(tick_marks, classes)\n",
        "\n",
        "  thresh = cm.max() / 2.\n",
        "  for i, j in itertools.product(range(cm.shape[0]), range(cm.shape[1])):\n",
        "        plt.text(j, i, cm[i, j], horizontalalignment=\"center\", color=\"white\" if cm[i, j] > thresh else \"black\")\n",
        "\n",
        "  plt.tight_layout()\n",
        "  plt.ylabel('True label')\n",
        "  plt\n",
        "\n",
        "  # print classification report\n",
        "  report = classification_report(y_tests, y_preds, target_names=classes) \n",
        "  print(report) \n"
      ],
      "metadata": {
        "id": "Ih-yxEktybhZ"
      },
      "execution_count": null,
      "outputs": []
    },
    {
      "cell_type": "code",
      "source": [
        "plt.plot(history.history['accuracy'], label='train')\n",
        "plt.plot(history.history['val_accuracy'], label='test')\n",
        "plt.plot(history.history['loss'], label='train_loss')\n",
        "plt.plot(history.history['val_loss'], label='test_loss')\n",
        "plt.legend()\n",
        "plt.show()"
      ],
      "metadata": {
        "colab": {
          "base_uri": "https://localhost:8080/",
          "height": 592
        },
        "id": "XsF7lQVNM4-n",
        "outputId": "686c269d-0a45-4283-807e-733eecdaf4ab"
      },
      "execution_count": null,
      "outputs": [
        {
          "output_type": "display_data",
          "data": {
            "text/plain": [
              "<Figure size 1080x720 with 1 Axes>"
            ],
            "image/png": "[encoded data removed]"
          },
          "metadata": {
            "needs_background": "light"
          }
        }
      ]
    },
    {
      "cell_type": "code",
      "source": [
        "loss, acc = model.evaluate(x_test, y_test)\n",
        "y_pred = model.predict(x_test)\n",
        "\n",
        "print('Testing metrics')\n",
        "print('accuracy:', round(acc*100,3))\n",
        "print('loss:', round(loss,3))"
      ],
      "metadata": {
        "colab": {
          "base_uri": "https://localhost:8080/"
        },
        "id": "mZ5ckWSkM7M3",
        "outputId": "8d49e0a0-a31d-4405-de7e-46a469bcb0f3"
      },
      "execution_count": null,
      "outputs": [
        {
          "output_type": "stream",
          "name": "stdout",
          "text": [
            "6/6 [==============================] - 0s 4ms/step - loss: 0.3871 - accuracy: 0.8833\n",
            "6/6 [==============================] - 0s 4ms/step\n",
            "Testing metrics\n",
            "accuracy: 88.333\n",
            "loss: 0.387\n"
          ]
        }
      ]
    },
    {
      "cell_type": "code",
      "source": [
        "y_pred[0]"
      ],
      "metadata": {
        "colab": {
          "base_uri": "https://localhost:8080/"
        },
        "id": "6SzgyEAXyyPw",
        "outputId": "1a6646b6-1aa2-44e4-bf85-416671f9536c"
      },
      "execution_count": null,
      "outputs": [
        {
          "output_type": "execute_result",
          "data": {
            "text/plain": [
              "array([0.01931445, 0.00966731, 0.20733643, 0.10972092, 0.52543443,\n",
              "       0.03257396, 0.09595241], dtype=float32)"
            ]
          },
          "metadata": {},
          "execution_count": 19
        }
      ]
    },
    {
      "cell_type": "code",
      "source": [
        "y_test[0]"
      ],
      "metadata": {
        "colab": {
          "base_uri": "https://localhost:8080/"
        },
        "id": "WX221sQ-0Hyn",
        "outputId": "80090fe5-ef86-412e-ce17-56bc7fe9cbf1"
      },
      "execution_count": null,
      "outputs": [
        {
          "output_type": "execute_result",
          "data": {
            "text/plain": [
              "array([0., 0., 0., 0., 1., 0., 0.], dtype=float32)"
            ]
          },
          "metadata": {},
          "execution_count": 20
        }
      ]
    },
    {
      "cell_type": "code",
      "source": [
        "class_labels.keys()"
      ],
      "metadata": {
        "colab": {
          "base_uri": "https://localhost:8080/"
        },
        "id": "aqJb_V481rDR",
        "outputId": "4d17c6c4-e669-4331-c116-23c856b28ab9"
      },
      "execution_count": null,
      "outputs": [
        {
          "output_type": "execute_result",
          "data": {
            "text/plain": [
              "dict_keys(['DOKOL', 'SAFAVI', 'ROTANA', 'DEGLET', 'SOGAY', 'IRAQI', 'BERHI'])"
            ]
          },
          "metadata": {},
          "execution_count": 21
        }
      ]
    },
    {
      "cell_type": "code",
      "source": [
        "calculate_confusion_matrix(x_test,y_test)"
      ],
      "metadata": {
        "colab": {
          "base_uri": "https://localhost:8080/",
          "height": 1000
        },
        "id": "8WRtALPT0WCE",
        "outputId": "62daaceb-bd7a-42fa-ea72-06b92202f06c"
      },
      "execution_count": null,
      "outputs": [
        {
          "output_type": "stream",
          "name": "stdout",
          "text": [
            "6/6 [==============================] - 0s 4ms/step\n",
            "              precision    recall  f1-score   support\n",
            "\n",
            "       DOKOL       0.95      0.93      0.94        41\n",
            "      SAFAVI       0.98      1.00      0.99        40\n",
            "      ROTANA       0.82      0.97      0.89        33\n",
            "      DEGLET       0.86      0.60      0.71        20\n",
            "       SOGAY       0.74      0.74      0.74        19\n",
            "       IRAQI       0.92      0.79      0.85        14\n",
            "       BERHI       0.80      0.92      0.86        13\n",
            "\n",
            "    accuracy                           0.88       180\n",
            "   macro avg       0.87      0.85      0.85       180\n",
            "weighted avg       0.89      0.88      0.88       180\n",
            "\n"
          ]
        },
        {
          "output_type": "display_data",
          "data": {
            "text/plain": [
              "<Figure size 1080x720 with 2 Axes>"
            ],
            "image/png": "[encoded data removed]"
          },
          "metadata": {
            "needs_background": "light"
          }
        }
      ]
    },
    {
      "cell_type": "code",
      "source": [
        "model = Sequential()\n",
        "\n",
        "model.add(layers.Dense(512, 'relu', input_shape=INPUT_SHAPE))\n",
        "model.add(layers.Dropout(0.4))\n",
        "model.add(layers.Dense(256, 'relu'))\n",
        "model.add(layers.Dropout(0.4))\n",
        "model.add(layers.Dense(256, 'relu'))\n",
        "model.add(layers.Dropout(0.4))\n",
        "model.add(layers.Dense(128, 'relu'))\n",
        "model.add(layers.Dropout(0.4))\n",
        "model.add(layers.Dense(7,'softmax'))\n",
        "\n",
        "model.compile(optimizers.Adam(learning_rate=1e-4),'categorical_crossentropy', [metrics.categorical_accuracy])\n",
        "\n",
        "model.summary()"
      ],
      "metadata": {
        "colab": {
          "base_uri": "https://localhost:8080/"
        },
        "id": "4B8aMVNQOrn8",
        "outputId": "714b2ac1-3e93-4ff1-c67b-277c842a8af7"
      },
      "execution_count": null,
      "outputs": [
        {
          "output_type": "stream",
          "name": "stdout",
          "text": [
            "Model: \"sequential_1\"\n",
            "_________________________________________________________________\n",
            " Layer (type)                Output Shape              Param #   \n",
            "=================================================================\n",
            " dense_5 (Dense)             (None, 512)               13824     \n",
            "                                                                 \n",
            " dropout_4 (Dropout)         (None, 512)               0         \n",
            "                                                                 \n",
            " dense_6 (Dense)             (None, 256)               131328    \n",
            "                                                                 \n",
            " dropout_5 (Dropout)         (None, 256)               0         \n",
            "                                                                 \n",
            " dense_7 (Dense)             (None, 256)               65792     \n",
            "                                                                 \n",
            " dropout_6 (Dropout)         (None, 256)               0         \n",
            "                                                                 \n",
            " dense_8 (Dense)             (None, 128)               32896     \n",
            "                                                                 \n",
            " dropout_7 (Dropout)         (None, 128)               0         \n",
            "                                                                 \n",
            " dense_9 (Dense)             (None, 7)                 903       \n",
            "                                                                 \n",
            "=================================================================\n",
            "Total params: 244,743\n",
            "Trainable params: 244,743\n",
            "Non-trainable params: 0\n",
            "_________________________________________________________________\n"
          ]
        }
      ]
    },
    {
      "cell_type": "code",
      "source": [
        "history = model.fit(x_train, y_train, epochs=40, validation_data=(x_test, y_test), callbacks=[EarlyStopping(patience=25, restore_best_weights=True)])"
      ],
      "metadata": {
        "colab": {
          "base_uri": "https://localhost:8080/"
        },
        "id": "OzpykpD6bPLh",
        "outputId": "546fad5d-2128-41b8-e448-a3e40227d0cc"
      },
      "execution_count": null,
      "outputs": [
        {
          "output_type": "stream",
          "name": "stdout",
          "text": [
            "Epoch 1/40\n",
            "23/23 [==============================] - 2s 25ms/step - loss: 1.9708 - categorical_accuracy: 0.1490 - val_loss: 1.9228 - val_categorical_accuracy: 0.2278\n",
            "Epoch 2/40\n",
            "23/23 [==============================] - 0s 12ms/step - loss: 1.9253 - categorical_accuracy: 0.2075 - val_loss: 1.8945 - val_categorical_accuracy: 0.2833\n",
            "Epoch 3/40\n",
            "23/23 [==============================] - 0s 15ms/step - loss: 1.9015 - categorical_accuracy: 0.2604 - val_loss: 1.8635 - val_categorical_accuracy: 0.4333\n",
            "Epoch 4/40\n",
            "23/23 [==============================] - 0s 20ms/step - loss: 1.8658 - categorical_accuracy: 0.3064 - val_loss: 1.8281 - val_categorical_accuracy: 0.4444\n",
            "Epoch 5/40\n",
            "23/23 [==============================] - 0s 19ms/step - loss: 1.8378 - categorical_accuracy: 0.3259 - val_loss: 1.7852 - val_categorical_accuracy: 0.4611\n",
            "Epoch 6/40\n",
            "23/23 [==============================] - 0s 19ms/step - loss: 1.8240 - categorical_accuracy: 0.3259 - val_loss: 1.7253 - val_categorical_accuracy: 0.5444\n",
            "Epoch 7/40\n",
            "23/23 [==============================] - 0s 19ms/step - loss: 1.7511 - categorical_accuracy: 0.4220 - val_loss: 1.6568 - val_categorical_accuracy: 0.6278\n",
            "Epoch 8/40\n",
            "23/23 [==============================] - 0s 21ms/step - loss: 1.7214 - categorical_accuracy: 0.4554 - val_loss: 1.5720 - val_categorical_accuracy: 0.6333\n",
            "Epoch 9/40\n",
            "23/23 [==============================] - 0s 22ms/step - loss: 1.6646 - categorical_accuracy: 0.4708 - val_loss: 1.4746 - val_categorical_accuracy: 0.6333\n",
            "Epoch 10/40\n",
            "23/23 [==============================] - 0s 20ms/step - loss: 1.5648 - categorical_accuracy: 0.5209 - val_loss: 1.3686 - val_categorical_accuracy: 0.6333\n",
            "Epoch 11/40\n",
            "23/23 [==============================] - 1s 23ms/step - loss: 1.4843 - categorical_accuracy: 0.5529 - val_loss: 1.2622 - val_categorical_accuracy: 0.6333\n",
            "Epoch 12/40\n",
            "23/23 [==============================] - 1s 22ms/step - loss: 1.3927 - categorical_accuracy: 0.5752 - val_loss: 1.1745 - val_categorical_accuracy: 0.6333\n",
            "Epoch 13/40\n",
            "23/23 [==============================] - 0s 20ms/step - loss: 1.3337 - categorical_accuracy: 0.5710 - val_loss: 1.1020 - val_categorical_accuracy: 0.6333\n",
            "Epoch 14/40\n",
            "23/23 [==============================] - 0s 12ms/step - loss: 1.2361 - categorical_accuracy: 0.5947 - val_loss: 1.0273 - val_categorical_accuracy: 0.6333\n",
            "Epoch 15/40\n",
            "23/23 [==============================] - 0s 13ms/step - loss: 1.1665 - categorical_accuracy: 0.6017 - val_loss: 0.9696 - val_categorical_accuracy: 0.6333\n",
            "Epoch 16/40\n",
            "23/23 [==============================] - 0s 13ms/step - loss: 1.1255 - categorical_accuracy: 0.6295 - val_loss: 0.9147 - val_categorical_accuracy: 0.6333\n",
            "Epoch 17/40\n",
            "23/23 [==============================] - 0s 12ms/step - loss: 1.0642 - categorical_accuracy: 0.6226 - val_loss: 0.8671 - val_categorical_accuracy: 0.6333\n",
            "Epoch 18/40\n",
            "23/23 [==============================] - 0s 12ms/step - loss: 1.0071 - categorical_accuracy: 0.6435 - val_loss: 0.8239 - val_categorical_accuracy: 0.6389\n",
            "Epoch 19/40\n",
            "23/23 [==============================] - 0s 11ms/step - loss: 0.9909 - categorical_accuracy: 0.6462 - val_loss: 0.7941 - val_categorical_accuracy: 0.6500\n",
            "Epoch 20/40\n",
            "23/23 [==============================] - 0s 11ms/step - loss: 0.9576 - categorical_accuracy: 0.6504 - val_loss: 0.7584 - val_categorical_accuracy: 0.6667\n",
            "Epoch 21/40\n",
            "23/23 [==============================] - 0s 13ms/step - loss: 0.9150 - categorical_accuracy: 0.6685 - val_loss: 0.7303 - val_categorical_accuracy: 0.6889\n",
            "Epoch 22/40\n",
            "23/23 [==============================] - 0s 13ms/step - loss: 0.9165 - categorical_accuracy: 0.6713 - val_loss: 0.7047 - val_categorical_accuracy: 0.6944\n",
            "Epoch 23/40\n",
            "23/23 [==============================] - 0s 13ms/step - loss: 0.8691 - categorical_accuracy: 0.6783 - val_loss: 0.6926 - val_categorical_accuracy: 0.7056\n",
            "Epoch 24/40\n",
            "23/23 [==============================] - 0s 13ms/step - loss: 0.8465 - categorical_accuracy: 0.6936 - val_loss: 0.6641 - val_categorical_accuracy: 0.7056\n",
            "Epoch 25/40\n",
            "23/23 [==============================] - 0s 13ms/step - loss: 0.8179 - categorical_accuracy: 0.6852 - val_loss: 0.6505 - val_categorical_accuracy: 0.7222\n",
            "Epoch 26/40\n",
            "23/23 [==============================] - 0s 13ms/step - loss: 0.7909 - categorical_accuracy: 0.7089 - val_loss: 0.6316 - val_categorical_accuracy: 0.7222\n",
            "Epoch 27/40\n",
            "23/23 [==============================] - 0s 12ms/step - loss: 0.8142 - categorical_accuracy: 0.6936 - val_loss: 0.6081 - val_categorical_accuracy: 0.7222\n",
            "Epoch 28/40\n",
            "23/23 [==============================] - 0s 14ms/step - loss: 0.7813 - categorical_accuracy: 0.7075 - val_loss: 0.6100 - val_categorical_accuracy: 0.7222\n",
            "Epoch 29/40\n",
            "23/23 [==============================] - 0s 12ms/step - loss: 0.7751 - categorical_accuracy: 0.7228 - val_loss: 0.6001 - val_categorical_accuracy: 0.7333\n",
            "Epoch 30/40\n",
            "23/23 [==============================] - 0s 13ms/step - loss: 0.7363 - categorical_accuracy: 0.7284 - val_loss: 0.5846 - val_categorical_accuracy: 0.7556\n",
            "Epoch 31/40\n",
            "23/23 [==============================] - 0s 13ms/step - loss: 0.7507 - categorical_accuracy: 0.7201 - val_loss: 0.5611 - val_categorical_accuracy: 0.7444\n",
            "Epoch 32/40\n",
            "23/23 [==============================] - 0s 13ms/step - loss: 0.7493 - categorical_accuracy: 0.7270 - val_loss: 0.5791 - val_categorical_accuracy: 0.7667\n",
            "Epoch 33/40\n",
            "23/23 [==============================] - 0s 14ms/step - loss: 0.7029 - categorical_accuracy: 0.7187 - val_loss: 0.5571 - val_categorical_accuracy: 0.7667\n",
            "Epoch 34/40\n",
            "23/23 [==============================] - 0s 13ms/step - loss: 0.6930 - categorical_accuracy: 0.7382 - val_loss: 0.5554 - val_categorical_accuracy: 0.7667\n",
            "Epoch 35/40\n",
            "23/23 [==============================] - 0s 13ms/step - loss: 0.6926 - categorical_accuracy: 0.7228 - val_loss: 0.5459 - val_categorical_accuracy: 0.7611\n",
            "Epoch 36/40\n",
            "23/23 [==============================] - 0s 12ms/step - loss: 0.6836 - categorical_accuracy: 0.7298 - val_loss: 0.5334 - val_categorical_accuracy: 0.7778\n",
            "Epoch 37/40\n",
            "23/23 [==============================] - 0s 11ms/step - loss: 0.6915 - categorical_accuracy: 0.7354 - val_loss: 0.5345 - val_categorical_accuracy: 0.7722\n",
            "Epoch 38/40\n",
            "23/23 [==============================] - 0s 13ms/step - loss: 0.6614 - categorical_accuracy: 0.7577 - val_loss: 0.5307 - val_categorical_accuracy: 0.7611\n",
            "Epoch 39/40\n",
            "23/23 [==============================] - 0s 13ms/step - loss: 0.6866 - categorical_accuracy: 0.6964 - val_loss: 0.5165 - val_categorical_accuracy: 0.7722\n",
            "Epoch 40/40\n",
            "23/23 [==============================] - 0s 12ms/step - loss: 0.6406 - categorical_accuracy: 0.7479 - val_loss: 0.5090 - val_categorical_accuracy: 0.7778\n"
          ]
        }
      ]
    },
    {
      "cell_type": "code",
      "source": [
        "loss, acc = model.evaluate(x_test, y_test)\n",
        "\n",
        "print('Testing metrics')\n",
        "print('accuracy:', round(acc*100,3))\n",
        "print('loss:', round(loss,3))"
      ],
      "metadata": {
        "colab": {
          "base_uri": "https://localhost:8080/"
        },
        "id": "djIV1GsobbaK",
        "outputId": "97be92ef-91c8-4671-ba49-19514385b0ba"
      },
      "execution_count": null,
      "outputs": [
        {
          "output_type": "stream",
          "name": "stdout",
          "text": [
            "6/6 [==============================] - 0s 4ms/step - loss: 0.5090 - categorical_accuracy: 0.7778\n",
            "Testing metrics\n",
            "accuracy: 77.778\n",
            "loss: 0.509\n"
          ]
        }
      ]
    },
    {
      "cell_type": "code",
      "source": [
        "calculate_confusion_matrix(x_test,y_test)"
      ],
      "metadata": {
        "colab": {
          "base_uri": "https://localhost:8080/",
          "height": 1000
        },
        "id": "vgMpHe3z5CYX",
        "outputId": "3bfc1000-1411-448c-b68d-07f81ca874df"
      },
      "execution_count": null,
      "outputs": [
        {
          "output_type": "stream",
          "name": "stdout",
          "text": [
            "6/6 [==============================] - 0s 3ms/step\n",
            "              precision    recall  f1-score   support\n",
            "\n",
            "       DOKOL       0.85      1.00      0.92        41\n",
            "      SAFAVI       0.95      1.00      0.98        40\n",
            "      ROTANA       0.62      1.00      0.77        33\n",
            "      DEGLET       0.82      0.45      0.58        20\n",
            "       SOGAY       0.67      0.11      0.18        19\n",
            "       IRAQI       0.62      0.71      0.67        14\n",
            "       BERHI       0.71      0.38      0.50        13\n",
            "\n",
            "    accuracy                           0.78       180\n",
            "   macro avg       0.75      0.66      0.66       180\n",
            "weighted avg       0.78      0.78      0.74       180\n",
            "\n"
          ]
        },
        {
          "output_type": "display_data",
          "data": {
            "text/plain": [
              "<Figure size 1080x720 with 2 Axes>"
            ],
            "image/png": "[encoded data removed]"
          },
          "metadata": {
            "needs_background": "light"
          }
        }
      ]
    },
    {
      "cell_type": "code",
      "source": [
        "model = Sequential()\n",
        "\n",
        "model.add(layers.Dense(512, 'relu', input_shape=INPUT_SHAPE))\n",
        "model.add(layers.Dropout(0.2))\n",
        "model.add(layers.Dense(256, 'relu'))\n",
        "model.add(layers.Dropout(0.2))\n",
        "model.add(layers.Dense(256, 'relu'))\n",
        "model.add(layers.Dropout(0.2))\n",
        "model.add(layers.Dense(128, 'relu'))\n",
        "model.add(layers.Dropout(0.2))\n",
        "model.add(layers.Dense(7,'softmax'))\n",
        "\n",
        "model.compile('Adamax','categorical_crossentropy', ['accuracy'])\n",
        "\n",
        "model.summary()"
      ],
      "metadata": {
        "colab": {
          "base_uri": "https://localhost:8080/"
        },
        "id": "X3gKU7IDizT9",
        "outputId": "0120f046-a238-4697-ff79-783ac4f3f8f3"
      },
      "execution_count": null,
      "outputs": [
        {
          "output_type": "stream",
          "name": "stdout",
          "text": [
            "Model: \"sequential_3\"\n",
            "_________________________________________________________________\n",
            " Layer (type)                Output Shape              Param #   \n",
            "=================================================================\n",
            " dense_15 (Dense)            (None, 512)               13824     \n",
            "                                                                 \n",
            " dropout_12 (Dropout)        (None, 512)               0         \n",
            "                                                                 \n",
            " dense_16 (Dense)            (None, 256)               131328    \n",
            "                                                                 \n",
            " dropout_13 (Dropout)        (None, 256)               0         \n",
            "                                                                 \n",
            " dense_17 (Dense)            (None, 256)               65792     \n",
            "                                                                 \n",
            " dropout_14 (Dropout)        (None, 256)               0         \n",
            "                                                                 \n",
            " dense_18 (Dense)            (None, 128)               32896     \n",
            "                                                                 \n",
            " dropout_15 (Dropout)        (None, 128)               0         \n",
            "                                                                 \n",
            " dense_19 (Dense)            (None, 7)                 903       \n",
            "                                                                 \n",
            "=================================================================\n",
            "Total params: 244,743\n",
            "Trainable params: 244,743\n",
            "Non-trainable params: 0\n",
            "_________________________________________________________________\n"
          ]
        }
      ]
    },
    {
      "cell_type": "code",
      "source": [
        "history = model.fit(x_train, y_train, epochs=140, validation_data=(x_test, y_test), callbacks=[EarlyStopping(patience=25, restore_best_weights=True)])"
      ],
      "metadata": {
        "colab": {
          "base_uri": "https://localhost:8080/"
        },
        "id": "NlyaTnedjJzM",
        "outputId": "ddfa1229-f894-422c-9543-d96eafdb72fa"
      },
      "execution_count": null,
      "outputs": [
        {
          "output_type": "stream",
          "name": "stdout",
          "text": [
            "Epoch 1/140\n",
            "23/23 [==============================] - 2s 41ms/step - loss: 1.7944 - accuracy: 0.3914 - val_loss: 1.5609 - val_accuracy: 0.6167\n",
            "Epoch 2/140\n",
            "23/23 [==============================] - 0s 14ms/step - loss: 1.4583 - accuracy: 0.5766 - val_loss: 1.1754 - val_accuracy: 0.6278\n",
            "Epoch 3/140\n",
            "23/23 [==============================] - 0s 12ms/step - loss: 1.1289 - accuracy: 0.6212 - val_loss: 0.8966 - val_accuracy: 0.6333\n",
            "Epoch 4/140\n",
            "23/23 [==============================] - 1s 32ms/step - loss: 0.9141 - accuracy: 0.6616 - val_loss: 0.7063 - val_accuracy: 0.7167\n",
            "Epoch 5/140\n",
            "23/23 [==============================] - 0s 13ms/step - loss: 0.7747 - accuracy: 0.7117 - val_loss: 0.5903 - val_accuracy: 0.7722\n",
            "Epoch 6/140\n",
            "23/23 [==============================] - 0s 14ms/step - loss: 0.6827 - accuracy: 0.7396 - val_loss: 0.5557 - val_accuracy: 0.7833\n",
            "Epoch 7/140\n",
            "23/23 [==============================] - 0s 12ms/step - loss: 0.6345 - accuracy: 0.7646 - val_loss: 0.5124 - val_accuracy: 0.8000\n",
            "Epoch 8/140\n",
            "23/23 [==============================] - 0s 13ms/step - loss: 0.5981 - accuracy: 0.7646 - val_loss: 0.4952 - val_accuracy: 0.7833\n",
            "Epoch 9/140\n",
            "23/23 [==============================] - 0s 19ms/step - loss: 0.5866 - accuracy: 0.7799 - val_loss: 0.4566 - val_accuracy: 0.8000\n",
            "Epoch 10/140\n",
            "23/23 [==============================] - 0s 20ms/step - loss: 0.5446 - accuracy: 0.7799 - val_loss: 0.4517 - val_accuracy: 0.8000\n",
            "Epoch 11/140\n",
            "23/23 [==============================] - 0s 21ms/step - loss: 0.5099 - accuracy: 0.7925 - val_loss: 0.4376 - val_accuracy: 0.8167\n",
            "Epoch 12/140\n",
            "23/23 [==============================] - 0s 19ms/step - loss: 0.5210 - accuracy: 0.7911 - val_loss: 0.4413 - val_accuracy: 0.7944\n",
            "Epoch 13/140\n",
            "23/23 [==============================] - 0s 19ms/step - loss: 0.5255 - accuracy: 0.7813 - val_loss: 0.4047 - val_accuracy: 0.8556\n",
            "Epoch 14/140\n",
            "23/23 [==============================] - 0s 18ms/step - loss: 0.5136 - accuracy: 0.7994 - val_loss: 0.4333 - val_accuracy: 0.8111\n",
            "Epoch 15/140\n",
            "23/23 [==============================] - 0s 21ms/step - loss: 0.4942 - accuracy: 0.8148 - val_loss: 0.4152 - val_accuracy: 0.8111\n",
            "Epoch 16/140\n",
            "23/23 [==============================] - 0s 20ms/step - loss: 0.4801 - accuracy: 0.8175 - val_loss: 0.4905 - val_accuracy: 0.8111\n",
            "Epoch 17/140\n",
            "23/23 [==============================] - 0s 19ms/step - loss: 0.4539 - accuracy: 0.8217 - val_loss: 0.4269 - val_accuracy: 0.8167\n",
            "Epoch 18/140\n",
            "23/23 [==============================] - 0s 21ms/step - loss: 0.4589 - accuracy: 0.8162 - val_loss: 0.3999 - val_accuracy: 0.8389\n",
            "Epoch 19/140\n",
            "23/23 [==============================] - 0s 12ms/step - loss: 0.4490 - accuracy: 0.8245 - val_loss: 0.3625 - val_accuracy: 0.8778\n",
            "Epoch 20/140\n",
            "23/23 [==============================] - 0s 12ms/step - loss: 0.4470 - accuracy: 0.8120 - val_loss: 0.3546 - val_accuracy: 0.8833\n",
            "Epoch 21/140\n",
            "23/23 [==============================] - 0s 13ms/step - loss: 0.4295 - accuracy: 0.8273 - val_loss: 0.3692 - val_accuracy: 0.8556\n",
            "Epoch 22/140\n",
            "23/23 [==============================] - 0s 12ms/step - loss: 0.4215 - accuracy: 0.8357 - val_loss: 0.3720 - val_accuracy: 0.8667\n",
            "Epoch 23/140\n",
            "23/23 [==============================] - 0s 12ms/step - loss: 0.4254 - accuracy: 0.8301 - val_loss: 0.3871 - val_accuracy: 0.8556\n",
            "Epoch 24/140\n",
            "23/23 [==============================] - 0s 13ms/step - loss: 0.4115 - accuracy: 0.8273 - val_loss: 0.3310 - val_accuracy: 0.8778\n",
            "Epoch 25/140\n",
            "23/23 [==============================] - 0s 13ms/step - loss: 0.3925 - accuracy: 0.8579 - val_loss: 0.3265 - val_accuracy: 0.8778\n",
            "Epoch 26/140\n",
            "23/23 [==============================] - 0s 11ms/step - loss: 0.3905 - accuracy: 0.8524 - val_loss: 0.3420 - val_accuracy: 0.8722\n",
            "Epoch 27/140\n",
            "23/23 [==============================] - 0s 12ms/step - loss: 0.4055 - accuracy: 0.8440 - val_loss: 0.3626 - val_accuracy: 0.8500\n",
            "Epoch 28/140\n",
            "23/23 [==============================] - 0s 12ms/step - loss: 0.3896 - accuracy: 0.8621 - val_loss: 0.3215 - val_accuracy: 0.8944\n",
            "Epoch 29/140\n",
            "23/23 [==============================] - 0s 12ms/step - loss: 0.4088 - accuracy: 0.8412 - val_loss: 0.3219 - val_accuracy: 0.8778\n",
            "Epoch 30/140\n",
            "23/23 [==============================] - 0s 12ms/step - loss: 0.3875 - accuracy: 0.8579 - val_loss: 0.3553 - val_accuracy: 0.8667\n",
            "Epoch 31/140\n",
            "23/23 [==============================] - 0s 15ms/step - loss: 0.3816 - accuracy: 0.8510 - val_loss: 0.3214 - val_accuracy: 0.8889\n",
            "Epoch 32/140\n",
            "23/23 [==============================] - 0s 13ms/step - loss: 0.3626 - accuracy: 0.8635 - val_loss: 0.2861 - val_accuracy: 0.8944\n",
            "Epoch 33/140\n",
            "23/23 [==============================] - 0s 13ms/step - loss: 0.3702 - accuracy: 0.8552 - val_loss: 0.3326 - val_accuracy: 0.8944\n",
            "Epoch 34/140\n",
            "23/23 [==============================] - 0s 13ms/step - loss: 0.3648 - accuracy: 0.8496 - val_loss: 0.3037 - val_accuracy: 0.9111\n",
            "Epoch 35/140\n",
            "23/23 [==============================] - 0s 14ms/step - loss: 0.3635 - accuracy: 0.8733 - val_loss: 0.2853 - val_accuracy: 0.9056\n",
            "Epoch 36/140\n",
            "23/23 [==============================] - 0s 13ms/step - loss: 0.3602 - accuracy: 0.8691 - val_loss: 0.3061 - val_accuracy: 0.8889\n",
            "Epoch 37/140\n",
            "23/23 [==============================] - 0s 15ms/step - loss: 0.3453 - accuracy: 0.8691 - val_loss: 0.2998 - val_accuracy: 0.9167\n",
            "Epoch 38/140\n",
            "23/23 [==============================] - 0s 14ms/step - loss: 0.3296 - accuracy: 0.8774 - val_loss: 0.2929 - val_accuracy: 0.9167\n",
            "Epoch 39/140\n",
            "23/23 [==============================] - 0s 13ms/step - loss: 0.3438 - accuracy: 0.8691 - val_loss: 0.2852 - val_accuracy: 0.9056\n",
            "Epoch 40/140\n",
            "23/23 [==============================] - 0s 13ms/step - loss: 0.3553 - accuracy: 0.8510 - val_loss: 0.3428 - val_accuracy: 0.8778\n",
            "Epoch 41/140\n",
            "23/23 [==============================] - 0s 12ms/step - loss: 0.3646 - accuracy: 0.8663 - val_loss: 0.3182 - val_accuracy: 0.8944\n",
            "Epoch 42/140\n",
            "23/23 [==============================] - 0s 13ms/step - loss: 0.3360 - accuracy: 0.8593 - val_loss: 0.2866 - val_accuracy: 0.9111\n",
            "Epoch 43/140\n",
            "23/23 [==============================] - 0s 14ms/step - loss: 0.3488 - accuracy: 0.8691 - val_loss: 0.2739 - val_accuracy: 0.9167\n",
            "Epoch 44/140\n",
            "23/23 [==============================] - 0s 13ms/step - loss: 0.3414 - accuracy: 0.8691 - val_loss: 0.2918 - val_accuracy: 0.9056\n",
            "Epoch 45/140\n",
            "23/23 [==============================] - 0s 12ms/step - loss: 0.3359 - accuracy: 0.8677 - val_loss: 0.2939 - val_accuracy: 0.9056\n",
            "Epoch 46/140\n",
            "23/23 [==============================] - 0s 14ms/step - loss: 0.3203 - accuracy: 0.8802 - val_loss: 0.3103 - val_accuracy: 0.9056\n",
            "Epoch 47/140\n",
            "23/23 [==============================] - 0s 12ms/step - loss: 0.3046 - accuracy: 0.8760 - val_loss: 0.2755 - val_accuracy: 0.9111\n",
            "Epoch 48/140\n",
            "23/23 [==============================] - 0s 12ms/step - loss: 0.3081 - accuracy: 0.8802 - val_loss: 0.2685 - val_accuracy: 0.9111\n",
            "Epoch 49/140\n",
            "23/23 [==============================] - 0s 13ms/step - loss: 0.3084 - accuracy: 0.8719 - val_loss: 0.3007 - val_accuracy: 0.9056\n",
            "Epoch 50/140\n",
            "23/23 [==============================] - 0s 12ms/step - loss: 0.3378 - accuracy: 0.8705 - val_loss: 0.2952 - val_accuracy: 0.9111\n",
            "Epoch 51/140\n",
            "23/23 [==============================] - 0s 13ms/step - loss: 0.3176 - accuracy: 0.8774 - val_loss: 0.2753 - val_accuracy: 0.9111\n",
            "Epoch 52/140\n",
            "23/23 [==============================] - 0s 20ms/step - loss: 0.3291 - accuracy: 0.8733 - val_loss: 0.2669 - val_accuracy: 0.9222\n",
            "Epoch 53/140\n",
            "23/23 [==============================] - 0s 21ms/step - loss: 0.3110 - accuracy: 0.8760 - val_loss: 0.3310 - val_accuracy: 0.8833\n",
            "Epoch 54/140\n",
            "23/23 [==============================] - 0s 20ms/step - loss: 0.3200 - accuracy: 0.8830 - val_loss: 0.2739 - val_accuracy: 0.9167\n",
            "Epoch 55/140\n",
            "23/23 [==============================] - 0s 21ms/step - loss: 0.2963 - accuracy: 0.8858 - val_loss: 0.2874 - val_accuracy: 0.9111\n",
            "Epoch 56/140\n",
            "23/23 [==============================] - 0s 19ms/step - loss: 0.3171 - accuracy: 0.8816 - val_loss: 0.2562 - val_accuracy: 0.9222\n",
            "Epoch 57/140\n",
            "23/23 [==============================] - 0s 20ms/step - loss: 0.3099 - accuracy: 0.8816 - val_loss: 0.2859 - val_accuracy: 0.9056\n",
            "Epoch 58/140\n",
            "23/23 [==============================] - 0s 19ms/step - loss: 0.2956 - accuracy: 0.8858 - val_loss: 0.3498 - val_accuracy: 0.8778\n",
            "Epoch 59/140\n",
            "23/23 [==============================] - 0s 22ms/step - loss: 0.3167 - accuracy: 0.8844 - val_loss: 0.2598 - val_accuracy: 0.9167\n",
            "Epoch 60/140\n",
            "23/23 [==============================] - 0s 22ms/step - loss: 0.2959 - accuracy: 0.8830 - val_loss: 0.2714 - val_accuracy: 0.9222\n",
            "Epoch 61/140\n",
            "23/23 [==============================] - 0s 17ms/step - loss: 0.3021 - accuracy: 0.8969 - val_loss: 0.2572 - val_accuracy: 0.9222\n",
            "Epoch 62/140\n",
            "23/23 [==============================] - 0s 12ms/step - loss: 0.3084 - accuracy: 0.8802 - val_loss: 0.3402 - val_accuracy: 0.8833\n",
            "Epoch 63/140\n",
            "23/23 [==============================] - 0s 13ms/step - loss: 0.2953 - accuracy: 0.8816 - val_loss: 0.2758 - val_accuracy: 0.9056\n",
            "Epoch 64/140\n",
            "23/23 [==============================] - 0s 13ms/step - loss: 0.2993 - accuracy: 0.8928 - val_loss: 0.2761 - val_accuracy: 0.9278\n",
            "Epoch 65/140\n",
            "23/23 [==============================] - 0s 13ms/step - loss: 0.2959 - accuracy: 0.8872 - val_loss: 0.2570 - val_accuracy: 0.9389\n",
            "Epoch 66/140\n",
            "23/23 [==============================] - 0s 12ms/step - loss: 0.3078 - accuracy: 0.8802 - val_loss: 0.2970 - val_accuracy: 0.9056\n",
            "Epoch 67/140\n",
            "23/23 [==============================] - 0s 13ms/step - loss: 0.2875 - accuracy: 0.8872 - val_loss: 0.2741 - val_accuracy: 0.9167\n",
            "Epoch 68/140\n",
            "23/23 [==============================] - 0s 12ms/step - loss: 0.2871 - accuracy: 0.8928 - val_loss: 0.2638 - val_accuracy: 0.9222\n",
            "Epoch 69/140\n",
            "23/23 [==============================] - 0s 12ms/step - loss: 0.2751 - accuracy: 0.8914 - val_loss: 0.2559 - val_accuracy: 0.9333\n",
            "Epoch 70/140\n",
            "23/23 [==============================] - 0s 12ms/step - loss: 0.2839 - accuracy: 0.8997 - val_loss: 0.2858 - val_accuracy: 0.9278\n",
            "Epoch 71/140\n",
            "23/23 [==============================] - 0s 13ms/step - loss: 0.3026 - accuracy: 0.8816 - val_loss: 0.2698 - val_accuracy: 0.9167\n",
            "Epoch 72/140\n",
            "23/23 [==============================] - 0s 12ms/step - loss: 0.2719 - accuracy: 0.9067 - val_loss: 0.2604 - val_accuracy: 0.9167\n",
            "Epoch 73/140\n",
            "23/23 [==============================] - 0s 11ms/step - loss: 0.2654 - accuracy: 0.8983 - val_loss: 0.2844 - val_accuracy: 0.9056\n",
            "Epoch 74/140\n",
            "23/23 [==============================] - 0s 12ms/step - loss: 0.2786 - accuracy: 0.8997 - val_loss: 0.2656 - val_accuracy: 0.9111\n",
            "Epoch 75/140\n",
            "23/23 [==============================] - 0s 14ms/step - loss: 0.2680 - accuracy: 0.8886 - val_loss: 0.2583 - val_accuracy: 0.9167\n",
            "Epoch 76/140\n",
            "23/23 [==============================] - 0s 12ms/step - loss: 0.2972 - accuracy: 0.8844 - val_loss: 0.2638 - val_accuracy: 0.9333\n",
            "Epoch 77/140\n",
            "23/23 [==============================] - 0s 12ms/step - loss: 0.2953 - accuracy: 0.8942 - val_loss: 0.2582 - val_accuracy: 0.9278\n",
            "Epoch 78/140\n",
            "23/23 [==============================] - 0s 13ms/step - loss: 0.2896 - accuracy: 0.8844 - val_loss: 0.2668 - val_accuracy: 0.9222\n",
            "Epoch 79/140\n",
            "23/23 [==============================] - 0s 12ms/step - loss: 0.3067 - accuracy: 0.8830 - val_loss: 0.2568 - val_accuracy: 0.9278\n",
            "Epoch 80/140\n",
            "23/23 [==============================] - 0s 13ms/step - loss: 0.2676 - accuracy: 0.8997 - val_loss: 0.2664 - val_accuracy: 0.9222\n",
            "Epoch 81/140\n",
            "23/23 [==============================] - 0s 12ms/step - loss: 0.2493 - accuracy: 0.9095 - val_loss: 0.2781 - val_accuracy: 0.9167\n",
            "Epoch 82/140\n",
            "23/23 [==============================] - 0s 13ms/step - loss: 0.2635 - accuracy: 0.8900 - val_loss: 0.2595 - val_accuracy: 0.9222\n",
            "Epoch 83/140\n",
            "23/23 [==============================] - 0s 13ms/step - loss: 0.2736 - accuracy: 0.8914 - val_loss: 0.2708 - val_accuracy: 0.9278\n",
            "Epoch 84/140\n",
            "23/23 [==============================] - 0s 13ms/step - loss: 0.2531 - accuracy: 0.8955 - val_loss: 0.2672 - val_accuracy: 0.9278\n",
            "Epoch 85/140\n",
            "23/23 [==============================] - 0s 13ms/step - loss: 0.2533 - accuracy: 0.8997 - val_loss: 0.2526 - val_accuracy: 0.9333\n",
            "Epoch 86/140\n",
            "23/23 [==============================] - 0s 12ms/step - loss: 0.2389 - accuracy: 0.9109 - val_loss: 0.2722 - val_accuracy: 0.9167\n",
            "Epoch 87/140\n",
            "23/23 [==============================] - 0s 12ms/step - loss: 0.2723 - accuracy: 0.9053 - val_loss: 0.3069 - val_accuracy: 0.9000\n",
            "Epoch 88/140\n",
            "23/23 [==============================] - 0s 13ms/step - loss: 0.2921 - accuracy: 0.8928 - val_loss: 0.2603 - val_accuracy: 0.9222\n",
            "Epoch 89/140\n",
            "23/23 [==============================] - 0s 13ms/step - loss: 0.2608 - accuracy: 0.8983 - val_loss: 0.2648 - val_accuracy: 0.9222\n",
            "Epoch 90/140\n",
            "23/23 [==============================] - 0s 14ms/step - loss: 0.2558 - accuracy: 0.9109 - val_loss: 0.2470 - val_accuracy: 0.9333\n",
            "Epoch 91/140\n",
            "23/23 [==============================] - 0s 14ms/step - loss: 0.2605 - accuracy: 0.8900 - val_loss: 0.2859 - val_accuracy: 0.9222\n",
            "Epoch 92/140\n",
            "23/23 [==============================] - 0s 14ms/step - loss: 0.2596 - accuracy: 0.8997 - val_loss: 0.2873 - val_accuracy: 0.9278\n",
            "Epoch 93/140\n",
            "23/23 [==============================] - 0s 13ms/step - loss: 0.2563 - accuracy: 0.9011 - val_loss: 0.2900 - val_accuracy: 0.9056\n",
            "Epoch 94/140\n",
            "23/23 [==============================] - 0s 14ms/step - loss: 0.2551 - accuracy: 0.8955 - val_loss: 0.2631 - val_accuracy: 0.9167\n",
            "Epoch 95/140\n",
            "23/23 [==============================] - 0s 19ms/step - loss: 0.2671 - accuracy: 0.9011 - val_loss: 0.2761 - val_accuracy: 0.9222\n",
            "Epoch 96/140\n",
            "23/23 [==============================] - 0s 20ms/step - loss: 0.2737 - accuracy: 0.8942 - val_loss: 0.2642 - val_accuracy: 0.9222\n",
            "Epoch 97/140\n",
            "23/23 [==============================] - 0s 20ms/step - loss: 0.2591 - accuracy: 0.8969 - val_loss: 0.2697 - val_accuracy: 0.9278\n",
            "Epoch 98/140\n",
            "23/23 [==============================] - 0s 20ms/step - loss: 0.2466 - accuracy: 0.9095 - val_loss: 0.2609 - val_accuracy: 0.9222\n",
            "Epoch 99/140\n",
            "23/23 [==============================] - 1s 24ms/step - loss: 0.2445 - accuracy: 0.9136 - val_loss: 0.2766 - val_accuracy: 0.9278\n",
            "Epoch 100/140\n",
            "23/23 [==============================] - 0s 20ms/step - loss: 0.2465 - accuracy: 0.9123 - val_loss: 0.2558 - val_accuracy: 0.9389\n",
            "Epoch 101/140\n",
            "23/23 [==============================] - 0s 22ms/step - loss: 0.2714 - accuracy: 0.8983 - val_loss: 0.2816 - val_accuracy: 0.9167\n",
            "Epoch 102/140\n",
            "23/23 [==============================] - 0s 19ms/step - loss: 0.2638 - accuracy: 0.8969 - val_loss: 0.2482 - val_accuracy: 0.9333\n",
            "Epoch 103/140\n",
            "23/23 [==============================] - 0s 22ms/step - loss: 0.2747 - accuracy: 0.8802 - val_loss: 0.2500 - val_accuracy: 0.9333\n",
            "Epoch 104/140\n",
            "23/23 [==============================] - 0s 20ms/step - loss: 0.2519 - accuracy: 0.9053 - val_loss: 0.2620 - val_accuracy: 0.9222\n",
            "Epoch 105/140\n",
            "23/23 [==============================] - 0s 13ms/step - loss: 0.2393 - accuracy: 0.9039 - val_loss: 0.2740 - val_accuracy: 0.9222\n",
            "Epoch 106/140\n",
            "23/23 [==============================] - 0s 13ms/step - loss: 0.2150 - accuracy: 0.9095 - val_loss: 0.2426 - val_accuracy: 0.9389\n",
            "Epoch 107/140\n",
            "23/23 [==============================] - 0s 13ms/step - loss: 0.2241 - accuracy: 0.9109 - val_loss: 0.2631 - val_accuracy: 0.9222\n",
            "Epoch 108/140\n",
            "23/23 [==============================] - 0s 13ms/step - loss: 0.2292 - accuracy: 0.9123 - val_loss: 0.2692 - val_accuracy: 0.9222\n",
            "Epoch 109/140\n",
            "23/23 [==============================] - 0s 13ms/step - loss: 0.2495 - accuracy: 0.9095 - val_loss: 0.2597 - val_accuracy: 0.9333\n",
            "Epoch 110/140\n",
            "23/23 [==============================] - 0s 13ms/step - loss: 0.2398 - accuracy: 0.9011 - val_loss: 0.2587 - val_accuracy: 0.9333\n",
            "Epoch 111/140\n",
            "23/23 [==============================] - 0s 13ms/step - loss: 0.2488 - accuracy: 0.9053 - val_loss: 0.2408 - val_accuracy: 0.9444\n",
            "Epoch 112/140\n",
            "23/23 [==============================] - 0s 13ms/step - loss: 0.2466 - accuracy: 0.9081 - val_loss: 0.2524 - val_accuracy: 0.9389\n",
            "Epoch 113/140\n",
            "23/23 [==============================] - 0s 14ms/step - loss: 0.2624 - accuracy: 0.8969 - val_loss: 0.2613 - val_accuracy: 0.9278\n",
            "Epoch 114/140\n",
            "23/23 [==============================] - 0s 13ms/step - loss: 0.2346 - accuracy: 0.9095 - val_loss: 0.2516 - val_accuracy: 0.9222\n",
            "Epoch 115/140\n",
            "23/23 [==============================] - 0s 13ms/step - loss: 0.2264 - accuracy: 0.9123 - val_loss: 0.2454 - val_accuracy: 0.9444\n",
            "Epoch 116/140\n",
            "23/23 [==============================] - 0s 13ms/step - loss: 0.2469 - accuracy: 0.9123 - val_loss: 0.2459 - val_accuracy: 0.9278\n",
            "Epoch 117/140\n",
            "23/23 [==============================] - 0s 13ms/step - loss: 0.2358 - accuracy: 0.9136 - val_loss: 0.2840 - val_accuracy: 0.9167\n",
            "Epoch 118/140\n",
            "23/23 [==============================] - 0s 13ms/step - loss: 0.2290 - accuracy: 0.9178 - val_loss: 0.2560 - val_accuracy: 0.9278\n",
            "Epoch 119/140\n",
            "23/23 [==============================] - 0s 14ms/step - loss: 0.2377 - accuracy: 0.9150 - val_loss: 0.2810 - val_accuracy: 0.9167\n",
            "Epoch 120/140\n",
            "23/23 [==============================] - 0s 13ms/step - loss: 0.2519 - accuracy: 0.9109 - val_loss: 0.2797 - val_accuracy: 0.9111\n",
            "Epoch 121/140\n",
            "23/23 [==============================] - 0s 13ms/step - loss: 0.2541 - accuracy: 0.9039 - val_loss: 0.2968 - val_accuracy: 0.9056\n",
            "Epoch 122/140\n",
            "23/23 [==============================] - 0s 12ms/step - loss: 0.2304 - accuracy: 0.9109 - val_loss: 0.2462 - val_accuracy: 0.9389\n",
            "Epoch 123/140\n",
            "23/23 [==============================] - 0s 13ms/step - loss: 0.2169 - accuracy: 0.9178 - val_loss: 0.2482 - val_accuracy: 0.9333\n",
            "Epoch 124/140\n",
            "23/23 [==============================] - 0s 13ms/step - loss: 0.2150 - accuracy: 0.9164 - val_loss: 0.2515 - val_accuracy: 0.9389\n",
            "Epoch 125/140\n",
            "23/23 [==============================] - 0s 13ms/step - loss: 0.2120 - accuracy: 0.9178 - val_loss: 0.2723 - val_accuracy: 0.9222\n",
            "Epoch 126/140\n",
            "23/23 [==============================] - 0s 13ms/step - loss: 0.2455 - accuracy: 0.9067 - val_loss: 0.2867 - val_accuracy: 0.9111\n",
            "Epoch 127/140\n",
            "23/23 [==============================] - 0s 14ms/step - loss: 0.2469 - accuracy: 0.8983 - val_loss: 0.2695 - val_accuracy: 0.9222\n",
            "Epoch 128/140\n",
            "23/23 [==============================] - 0s 13ms/step - loss: 0.2325 - accuracy: 0.9109 - val_loss: 0.2754 - val_accuracy: 0.9333\n",
            "Epoch 129/140\n",
            "23/23 [==============================] - 0s 13ms/step - loss: 0.2409 - accuracy: 0.8983 - val_loss: 0.2933 - val_accuracy: 0.9278\n",
            "Epoch 130/140\n",
            "23/23 [==============================] - 0s 14ms/step - loss: 0.2395 - accuracy: 0.9053 - val_loss: 0.2466 - val_accuracy: 0.9333\n",
            "Epoch 131/140\n",
            "23/23 [==============================] - 0s 13ms/step - loss: 0.2268 - accuracy: 0.9178 - val_loss: 0.2711 - val_accuracy: 0.9111\n",
            "Epoch 132/140\n",
            "23/23 [==============================] - 0s 13ms/step - loss: 0.2360 - accuracy: 0.9136 - val_loss: 0.2713 - val_accuracy: 0.9222\n",
            "Epoch 133/140\n",
            "23/23 [==============================] - 0s 14ms/step - loss: 0.2469 - accuracy: 0.9025 - val_loss: 0.2687 - val_accuracy: 0.9444\n",
            "Epoch 134/140\n",
            "23/23 [==============================] - 0s 13ms/step - loss: 0.2284 - accuracy: 0.9095 - val_loss: 0.2770 - val_accuracy: 0.9111\n",
            "Epoch 135/140\n",
            "23/23 [==============================] - 0s 12ms/step - loss: 0.2549 - accuracy: 0.9164 - val_loss: 0.2550 - val_accuracy: 0.9389\n",
            "Epoch 136/140\n",
            "23/23 [==============================] - 0s 12ms/step - loss: 0.2083 - accuracy: 0.9136 - val_loss: 0.2562 - val_accuracy: 0.9333\n"
          ]
        }
      ]
    },
    {
      "cell_type": "code",
      "source": [
        "plt.plot(history.history['accuracy'], label='train')\n",
        "plt.plot(history.history['val_accuracy'], label='test')\n",
        "plt.plot(history.history['loss'], label='train_loss')\n",
        "plt.plot(history.history['val_loss'], label='test_loss')\n",
        "plt.legend()\n",
        "plt.show()"
      ],
      "metadata": {
        "colab": {
          "base_uri": "https://localhost:8080/",
          "height": 592
        },
        "id": "pSQQ37Thg6zQ",
        "outputId": "7b7e3592-0876-46a6-95f5-2c6b373760d2"
      },
      "execution_count": null,
      "outputs": [
        {
          "output_type": "display_data",
          "data": {
            "text/plain": [
              "<Figure size 1080x720 with 1 Axes>"
            ],
            "image/png": "[encoded data removed]"
          },
          "metadata": {
            "needs_background": "light"
          }
        }
      ]
    },
    {
      "cell_type": "code",
      "source": [
        "loss, acc = model.evaluate(x_test, y_test)\n",
        "\n",
        "print('Testing metrics')\n",
        "print('accuracy:', round(acc*100,3))\n",
        "print('loss:', round(loss,3))"
      ],
      "metadata": {
        "colab": {
          "base_uri": "https://localhost:8080/"
        },
        "id": "hm1jnKMhg8uq",
        "outputId": "7d95da18-e6bc-468b-f67f-37a7a615d7de"
      },
      "execution_count": null,
      "outputs": [
        {
          "output_type": "stream",
          "name": "stdout",
          "text": [
            "6/6 [==============================] - 0s 4ms/step - loss: 0.2408 - accuracy: 0.9444\n",
            "Testing metrics\n",
            "accuracy: 94.444\n",
            "loss: 0.241\n"
          ]
        }
      ]
    },
    {
      "cell_type": "code",
      "source": [
        "calculate_confusion_matrix(x_test,y_test)"
      ],
      "metadata": {
        "colab": {
          "base_uri": "https://localhost:8080/",
          "height": 1000
        },
        "id": "obfBQRzq5ImZ",
        "outputId": "547da2e4-3006-4e9a-c184-83490abe2f36"
      },
      "execution_count": null,
      "outputs": [
        {
          "output_type": "stream",
          "name": "stdout",
          "text": [
            "6/6 [==============================] - 0s 5ms/step\n",
            "              precision    recall  f1-score   support\n",
            "\n",
            "       DOKOL       0.95      0.98      0.96        41\n",
            "      SAFAVI       1.00      1.00      1.00        40\n",
            "      ROTANA       0.92      1.00      0.96        33\n",
            "      DEGLET       0.88      0.75      0.81        20\n",
            "       SOGAY       0.89      0.89      0.89        19\n",
            "       IRAQI       0.93      0.93      0.93        14\n",
            "       BERHI       1.00      0.92      0.96        13\n",
            "\n",
            "    accuracy                           0.94       180\n",
            "   macro avg       0.94      0.92      0.93       180\n",
            "weighted avg       0.94      0.94      0.94       180\n",
            "\n"
          ]
        },
        {
          "output_type": "display_data",
          "data": {
            "text/plain": [
              "<Figure size 1080x720 with 2 Axes>"
            ],
            "image/png": "[encoded data removed]"
          },
          "metadata": {
            "needs_background": "light"
          }
        }
      ]
    }
  ]
}